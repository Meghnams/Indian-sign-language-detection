{
 "cells": [
  {
   "cell_type": "markdown",
   "id": "5ecb7724",
   "metadata": {},
   "source": [
    "## Importing necessary libraries"
   ]
  },
  {
   "cell_type": "code",
   "execution_count": 1,
   "id": "8f79671e",
   "metadata": {},
   "outputs": [],
   "source": [
    "import pandas as pd\n",
    "import numpy as np\n",
    "import seaborn as sns\n",
    "import matplotlib.pyplot as plt\n",
    "from PIL import Image\n",
    "import glob\n",
    "import os\n",
    "import shutil\n",
    "import cv2\n",
    "from skimage.transform import resize\n",
    "from sklearn.utils import shuffle\n",
    "from sklearn.model_selection import train_test_split\n",
    "from sklearn.preprocessing import LabelBinarizer\n",
    "from sklearn.ensemble import RandomForestClassifier\n",
    "from tensorflow import keras\n",
    "from sklearn.metrics import accuracy_score,classification_report,confusion_matrix\n",
    "import pickle"
   ]
  },
  {
   "cell_type": "markdown",
   "id": "446272fb",
   "metadata": {},
   "source": [
    "## Loading the dataset"
   ]
  },
  {
   "cell_type": "code",
   "execution_count": 2,
   "id": "36475395",
   "metadata": {},
   "outputs": [],
   "source": [
    "for files in os.listdir('Sign languages/'):\n",
    "    one=glob.glob('Sign languages/1/*.jpg')\n",
    "for files in os.listdir('Sign languages/'):\n",
    "    two=glob.glob('Sign languages/2/*.jpg')\n",
    "for files in os.listdir('Sign languages/'):\n",
    "    three=glob.glob('Sign languages/3/*.jpg')\n",
    "\n",
    "for files in os.listdir('Sign languages/'):\n",
    "    four=glob.glob('Sign languages/4/*.jpg')\n",
    "for files in os.listdir('Sign languages/'):\n",
    "    five=glob.glob('Sign languages/5/*.jpg')\n",
    "for files in os.listdir('Sign languages/'):\n",
    "    six=glob.glob('Sign languages/6/*.jpg')\n",
    "for files in os.listdir('Sign languages/'):\n",
    "    seven=glob.glob('Sign languages/7/*.jpg')\n",
    "for files in os.listdir('Sign languages/'):\n",
    "    eight=glob.glob('Sign languages/8/*.jpg')\n",
    "for files in os.listdir('Sign languages/'):\n",
    "    nine=glob.glob('Sign languages/9/*.jpg')\n",
    "for files in os.listdir('Sign languages/'):\n",
    "    A=glob.glob('Sign languages/A/*.jpg')\n",
    "for files in os.listdir('Sign languages/'):\n",
    "    B=glob.glob('Sign languages/B/*.jpg')\n",
    "for files in os.listdir('Sign languages/'):\n",
    "    C=glob.glob('Sign languages/C/*.jpg')\n",
    "for files in os.listdir('Sign languages/'):\n",
    "    D=glob.glob('Sign languages/D/*.jpg')\n",
    "for files in os.listdir('Sign languages/'):\n",
    "    E=glob.glob('Sign languages/E/*.jpg')\n",
    "for files in os.listdir('Sign languages/'):\n",
    "    F=glob.glob('Sign languages/F/*.jpg')\n",
    "for files in os.listdir('Sign languages/'):\n",
    "    G=glob.glob('Sign languages/G/*.jpg')\n",
    "for files in os.listdir('Sign languages/'):\n",
    "    H=glob.glob('Sign languages/H/*.jpg')\n",
    "for files in os.listdir('Sign languages/'):\n",
    "    I=glob.glob('Sign languages/I/*.jpg')\n",
    "for files in os.listdir('Sign languages/'):\n",
    "    J=glob.glob('Sign languages/J/*.jpg')\n",
    "for files in os.listdir('Sign languages/'):\n",
    "    K=glob.glob('Sign languages/K/*.jpg')\n",
    "for files in os.listdir('Sign languages/'):\n",
    "    L=glob.glob('Sign languages/L/*.jpg')\n",
    "for files in os.listdir('Sign languages/'):\n",
    "    M=glob.glob('Sign languages/M/*.jpg')\n",
    "for files in os.listdir('Sign languages/'):\n",
    "    N=glob.glob('Sign languages/N/*.jpg')\n",
    "for files in os.listdir('Sign languages/'):\n",
    "    O=glob.glob('Sign languages/O/*.jpg')\n",
    "for files in os.listdir('Sign languages/'):\n",
    "    P=glob.glob('Sign languages/P/*.jpg')\n",
    "for files in os.listdir('Sign languages/'):\n",
    "    Q=glob.glob('Sign languages/Q/*.jpg')\n",
    "for files in os.listdir('Sign languages/'):\n",
    "    R=glob.glob('Sign languages/R/*.jpg')\n",
    "for files in os.listdir('Sign languages/'):\n",
    "    S=glob.glob('Sign languages/S/*.jpg')\n",
    "for files in os.listdir('Sign languages/'):\n",
    "    T=glob.glob('Sign languages/T/*.jpg')\n",
    "for files in os.listdir('Sign languages/'):\n",
    "    U=glob.glob('Sign languages/U/*.jpg')\n",
    "for files in os.listdir('Sign languages/'):\n",
    "    V=glob.glob('Sign languages/V/*.jpg')\n",
    "for files in os.listdir('Sign languages/'):\n",
    "    W=glob.glob('Sign languages/W/*.jpg')\n",
    "for files in os.listdir('Sign languages/'):\n",
    "    X=glob.glob('Sign languages/X/*.jpg')\n",
    "for files in os.listdir('Sign languages/'):\n",
    "    Y=glob.glob('Sign languages/Y/*.jpg')\n",
    "for files in os.listdir('Sign languages/'):\n",
    "    Z=glob.glob('Sign languages/Z/*.jpg')"
   ]
  },
  {
   "cell_type": "markdown",
   "id": "8b8a4356",
   "metadata": {},
   "source": [
    "## Reading the images"
   ]
  },
  {
   "cell_type": "code",
   "execution_count": 3,
   "id": "ee8a4542",
   "metadata": {},
   "outputs": [],
   "source": [
    "image=[]\n",
    "label=[]\n",
    "for i in one:\n",
    "    img=plt.imread(i)\n",
    "    image.append(img)\n",
    "    label.append(1)\n",
    "for i in two:\n",
    "    img=plt.imread(i)\n",
    "    image.append(img)\n",
    "    label.append(2)\n",
    "for i in three:\n",
    "    img=plt.imread(i)\n",
    "    image.append(img)\n",
    "    label.append(3)\n",
    "for i in four:\n",
    "    img=plt.imread(i)\n",
    "    image.append(img)\n",
    "    label.append(4)\n",
    "for i in five:\n",
    "    img=plt.imread(i)\n",
    "    image.append(img)\n",
    "    label.append(5)\n",
    "for i in six:\n",
    "    img=plt.imread(i)\n",
    "    image.append(img)\n",
    "    label.append(6)\n",
    "for i in seven:\n",
    "    img=plt.imread(i)\n",
    "    image.append(img)\n",
    "    label.append(7)\n",
    "for i in eight:\n",
    "    img=plt.imread(i)\n",
    "    image.append(img)\n",
    "    label.append(8)\n",
    "for i in nine:\n",
    "    img=plt.imread(i)\n",
    "    image.append(img)\n",
    "    label.append(9)\n",
    "for i in A:\n",
    "    img=plt.imread(i)\n",
    "    image.append(img)\n",
    "    label.append(10)\n",
    "for i in B:\n",
    "    img=plt.imread(i)\n",
    "    image.append(img)\n",
    "    label.append(11)\n",
    "for i in C:\n",
    "    img=plt.imread(i)\n",
    "    image.append(img)\n",
    "    label.append(12)\n",
    "for i in D:\n",
    "    img=plt.imread(i)\n",
    "    image.append(img)\n",
    "    label.append(13)\n",
    "for i in E:\n",
    "    img=plt.imread(i)\n",
    "    image.append(img)\n",
    "    label.append(14)\n",
    "for i in F:\n",
    "    img=plt.imread(i)\n",
    "    image.append(img)\n",
    "    label.append(15)\n",
    "for i in G:\n",
    "    img=plt.imread(i)\n",
    "    image.append(img)\n",
    "    label.append(16)\n",
    "for i in H:\n",
    "    img=plt.imread(i)\n",
    "    image.append(img)\n",
    "    label.append(17)\n",
    "for i in I:\n",
    "    img=plt.imread(i)\n",
    "    image.append(img)\n",
    "    label.append(18)\n",
    "for i in J:\n",
    "    img=plt.imread(i)\n",
    "    image.append(img)\n",
    "    label.append(19)\n",
    "for i in K:\n",
    "    img=plt.imread(i)\n",
    "    image.append(img)\n",
    "    label.append(20)\n",
    "for i in L:\n",
    "    img=plt.imread(i)\n",
    "    image.append(img)\n",
    "    label.append(21)\n",
    "for i in M:\n",
    "    img=plt.imread(i)\n",
    "    image.append(img)\n",
    "    label.append(22)\n",
    "for i in N:\n",
    "    img=plt.imread(i)\n",
    "    image.append(img)\n",
    "    label.append(23)\n",
    "for i in O:\n",
    "    img=plt.imread(i)\n",
    "    image.append(img)\n",
    "    label.append(24)\n",
    "for i in P:\n",
    "    img=plt.imread(i)\n",
    "    image.append(img)\n",
    "    label.append(25)\n",
    "for i in Q:\n",
    "    img=plt.imread(i)\n",
    "    image.append(img)\n",
    "    label.append(26)\n",
    "for i in R:\n",
    "    img=plt.imread(i)\n",
    "    image.append(img)\n",
    "    label.append(27)\n",
    "for i in S:\n",
    "    img=plt.imread(i)\n",
    "    image.append(img)\n",
    "    label.append(28)\n",
    "for i in T:\n",
    "    img=plt.imread(i)\n",
    "    image.append(img)\n",
    "    label.append(29)\n",
    "for i in U:\n",
    "    img=plt.imread(i)\n",
    "    image.append(img)\n",
    "    label.append(30)\n",
    "for i in V:\n",
    "    img=plt.imread(i)\n",
    "    image.append(img)\n",
    "    label.append(31)\n",
    "for i in W:\n",
    "    img=plt.imread(i)\n",
    "    image.append(img)\n",
    "    label.append(32)\n",
    "for i in X:\n",
    "    img=plt.imread(i)\n",
    "    image.append(img)\n",
    "    label.append(33)\n",
    "for i in Y:\n",
    "    img=plt.imread(i)\n",
    "    image.append(img)\n",
    "    label.append(34)\n",
    "for i in Z:\n",
    "    img=plt.imread(i)\n",
    "    image.append(img)\n",
    "    label.append(35)"
   ]
  },
  {
   "cell_type": "code",
   "execution_count": 4,
   "id": "e150ce13",
   "metadata": {},
   "outputs": [
    {
     "data": {
      "text/plain": [
       "7069"
      ]
     },
     "execution_count": 4,
     "metadata": {},
     "output_type": "execute_result"
    }
   ],
   "source": [
    "len(image)"
   ]
  },
  {
   "cell_type": "markdown",
   "id": "ff1a6108",
   "metadata": {},
   "source": [
    "## Plotting the images"
   ]
  },
  {
   "cell_type": "code",
   "execution_count": 5,
   "id": "b3cb476f",
   "metadata": {},
   "outputs": [
    {
     "data": {
      "image/png": "[encoded data removed]",
      "text/plain": [
       "<Figure size 640x480 with 6 Axes>"
      ]
     },
     "metadata": {},
     "output_type": "display_data"
    }
   ],
   "source": [
    "for i in range(6):\n",
    "    plt.subplot(2,3,i+1)\n",
    "    plt.imshow(image[i])"
   ]
  },
  {
   "cell_type": "markdown",
   "id": "56508811",
   "metadata": {},
   "source": [
    "## Shuffling of images"
   ]
  },
  {
   "cell_type": "code",
   "execution_count": 6,
   "id": "7701956c",
   "metadata": {},
   "outputs": [],
   "source": [
    "image,label=shuffle(image,label)"
   ]
  },
  {
   "cell_type": "code",
   "execution_count": 7,
   "id": "8fa1c825",
   "metadata": {},
   "outputs": [
    {
     "name": "stdout",
     "output_type": "stream",
     "text": [
      "(192, 225, 3)\n",
      "(128, 128, 3)\n",
      "(275, 183, 3)\n",
      "(128, 128, 3)\n",
      "(128, 128, 3)\n",
      "(161, 209, 3)\n",
      "(189, 225, 3)\n",
      "(177, 172, 3)\n",
      "(128, 128, 3)\n",
      "(190, 225, 3)\n"
     ]
    }
   ],
   "source": [
    "for i in range(10):\n",
    "    print(image[i].shape)"
   ]
  },
  {
   "cell_type": "markdown",
   "id": "5e511470",
   "metadata": {},
   "source": [
    "## Resizing images"
   ]
  },
  {
   "cell_type": "code",
   "execution_count": 8,
   "id": "afe59a66",
   "metadata": {},
   "outputs": [],
   "source": [
    "x=[]\n",
    "for i in image:\n",
    "    x.append(resize(i,(64,64,3)))"
   ]
  },
  {
   "cell_type": "code",
   "execution_count": 9,
   "id": "31ab2ada",
   "metadata": {},
   "outputs": [
    {
     "data": {
      "text/plain": [
       "array([[[0.05098039, 0.05098039, 0.05098039],\n",
       "        [0.05104474, 0.05104474, 0.05104474],\n",
       "        [0.0538252 , 0.0538252 , 0.0538252 ],\n",
       "        ...,\n",
       "        [0.17223284, 0.16831127, 0.18791912],\n",
       "        [0.08518063, 0.08125906, 0.1008669 ],\n",
       "        [0.05066035, 0.04673878, 0.06634662]],\n",
       "\n",
       "       [[0.05098039, 0.05098039, 0.05098039],\n",
       "        [0.05104474, 0.05104474, 0.05104474],\n",
       "        [0.0538252 , 0.0538252 , 0.0538252 ],\n",
       "        ...,\n",
       "        [0.05381671, 0.04995704, 0.06950299],\n",
       "        [0.0666946 , 0.06277615, 0.08238087],\n",
       "        [0.06388901, 0.05996744, 0.07957528]],\n",
       "\n",
       "       [[0.05098039, 0.05098039, 0.05098039],\n",
       "        [0.05104474, 0.05104474, 0.05104474],\n",
       "        [0.0538252 , 0.0538252 , 0.0538252 ],\n",
       "        ...,\n",
       "        [0.0498884 , 0.04624423, 0.06557468],\n",
       "        [0.05604793, 0.05214034, 0.0717342 ],\n",
       "        [0.05966448, 0.05574291, 0.07535076]],\n",
       "\n",
       "       ...,\n",
       "\n",
       "       [[0.71599173, 0.53841151, 0.39685855],\n",
       "        [0.70948218, 0.54037817, 0.41184968],\n",
       "        [0.65260302, 0.51751181, 0.4291218 ],\n",
       "        ...,\n",
       "        [0.62281048, 0.42703427, 0.32769009],\n",
       "        [0.65535294, 0.45217664, 0.33306743],\n",
       "        [0.68655318, 0.47876412, 0.35193083]],\n",
       "\n",
       "       [[0.71035652, 0.52486107, 0.3845957 ],\n",
       "        [0.69456878, 0.53125591, 0.4118436 ],\n",
       "        [0.50772311, 0.39598062, 0.32411181],\n",
       "        ...,\n",
       "        [0.62210713, 0.42633092, 0.32698674],\n",
       "        [0.65012541, 0.44694911, 0.3278429 ],\n",
       "        [0.67743426, 0.46964519, 0.34387643]],\n",
       "\n",
       "       [[0.71146552, 0.52093674, 0.38214513],\n",
       "        [0.67381978, 0.51546451, 0.40171389],\n",
       "        [0.27685892, 0.1810315 , 0.13123396],\n",
       "        ...,\n",
       "        [0.61926293, 0.42348672, 0.32414254],\n",
       "        [0.64278574, 0.43960944, 0.32050601],\n",
       "        [0.67032018, 0.46253111, 0.33774824]]])"
      ]
     },
     "execution_count": 9,
     "metadata": {},
     "output_type": "execute_result"
    }
   ],
   "source": [
    "x[0]"
   ]
  },
  {
   "cell_type": "code",
   "execution_count": 10,
   "id": "7ed1fc0e",
   "metadata": {},
   "outputs": [],
   "source": [
    "x=np.array(x)\n",
    "y=label"
   ]
  },
  {
   "cell_type": "code",
   "execution_count": 11,
   "id": "f551b6fe",
   "metadata": {},
   "outputs": [
    {
     "data": {
      "text/plain": [
       "(7069, 64, 64, 3)"
      ]
     },
     "execution_count": 11,
     "metadata": {},
     "output_type": "execute_result"
    }
   ],
   "source": [
    "x.shape"
   ]
  },
  {
   "cell_type": "markdown",
   "id": "d563e27a",
   "metadata": {},
   "source": [
    "## Label encoding "
   ]
  },
  {
   "cell_type": "code",
   "execution_count": 12,
   "id": "871a2148",
   "metadata": {},
   "outputs": [
    {
     "data": {
      "text/plain": [
       "array([[0, 0, 0, ..., 0, 0, 0],\n",
       "       [0, 0, 0, ..., 0, 0, 0],\n",
       "       [0, 0, 1, ..., 0, 0, 0],\n",
       "       ...,\n",
       "       [0, 0, 0, ..., 0, 0, 0],\n",
       "       [0, 0, 0, ..., 0, 0, 0],\n",
       "       [0, 0, 0, ..., 0, 0, 0]])"
      ]
     },
     "execution_count": 12,
     "metadata": {},
     "output_type": "execute_result"
    }
   ],
   "source": [
    "encoder=LabelBinarizer()\n",
    "y=encoder.fit_transform(y)\n",
    "y"
   ]
  },
  {
   "cell_type": "code",
   "execution_count": 13,
   "id": "b1eb468d",
   "metadata": {},
   "outputs": [],
   "source": [
    "y=np.array(y)"
   ]
  },
  {
   "cell_type": "markdown",
   "id": "9c46f8e1",
   "metadata": {},
   "source": [
    "## Train test splitting of data"
   ]
  },
  {
   "cell_type": "code",
   "execution_count": 14,
   "id": "290d7301",
   "metadata": {},
   "outputs": [],
   "source": [
    "x_train,x_test,y_train,y_test=train_test_split(x,y,test_size=0.2)"
   ]
  },
  {
   "cell_type": "code",
   "execution_count": 15,
   "id": "26b50792",
   "metadata": {},
   "outputs": [
    {
     "data": {
      "text/plain": [
       "((5655, 64, 64, 3), (1414, 64, 64, 3), (5655, 35), (1414, 35))"
      ]
     },
     "execution_count": 15,
     "metadata": {},
     "output_type": "execute_result"
    }
   ],
   "source": [
    "x_train.shape,x_test.shape,y_train.shape,y_test.shape"
   ]
  },
  {
   "cell_type": "code",
   "execution_count": 16,
   "id": "adc364ca",
   "metadata": {},
   "outputs": [
    {
     "data": {
      "text/plain": [
       "(numpy.ndarray, numpy.ndarray)"
      ]
     },
     "execution_count": 16,
     "metadata": {},
     "output_type": "execute_result"
    }
   ],
   "source": [
    "type(x_train),type(y_train)"
   ]
  },
  {
   "cell_type": "code",
   "execution_count": 22,
   "id": "ec00425a",
   "metadata": {},
   "outputs": [],
   "source": [
    "model=RandomForestClassifier(n_estimators=400,max_depth=5)"
   ]
  },
  {
   "cell_type": "markdown",
   "id": "6c169782",
   "metadata": {},
   "source": [
    "## Model building using CNN"
   ]
  },
  {
   "cell_type": "code",
   "execution_count": 17,
   "id": "6447fc59",
   "metadata": {},
   "outputs": [],
   "source": [
    "model=keras.models.Sequential([\n",
    "    keras.layers.Conv2D(15,(3,3),activation='relu',input_shape=(64,64,3)),\n",
    "    keras.layers.MaxPool2D(),\n",
    "    keras.layers.Conv2D(20,(3,3),activation='relu'),\n",
    "    keras.layers.MaxPool2D(),\n",
    "    keras.layers.Flatten(),\n",
    "    keras.layers.Dense(70,activation='relu'),\n",
    "    keras.layers.Dense(35,activation='sigmoid')\n",
    "])"
   ]
  },
  {
   "cell_type": "code",
   "execution_count": 18,
   "id": "f40bdf76",
   "metadata": {},
   "outputs": [],
   "source": [
    "model.compile(optimizer='adam',\n",
    "              loss='categorical_crossentropy',\n",
    "              metrics=['accuracy'])"
   ]
  },
  {
   "cell_type": "code",
   "execution_count": 19,
   "id": "8c2d2ebb",
   "metadata": {},
   "outputs": [
    {
     "name": "stdout",
     "output_type": "stream",
     "text": [
      "Model: \"sequential\"\n",
      "_________________________________________________________________\n",
      " Layer (type)                Output Shape              Param #   \n",
      "=================================================================\n",
      " conv2d (Conv2D)             (None, 62, 62, 15)        420       \n",
      "                                                                 \n",
      " max_pooling2d (MaxPooling2D  (None, 31, 31, 15)       0         \n",
      " )                                                               \n",
      "                                                                 \n",
      " conv2d_1 (Conv2D)           (None, 29, 29, 20)        2720      \n",
      "                                                                 \n",
      " max_pooling2d_1 (MaxPooling  (None, 14, 14, 20)       0         \n",
      " 2D)                                                             \n",
      "                                                                 \n",
      " flatten (Flatten)           (None, 3920)              0         \n",
      "                                                                 \n",
      " dense (Dense)               (None, 70)                274470    \n",
      "                                                                 \n",
      " dense_1 (Dense)             (None, 35)                2485      \n",
      "                                                                 \n",
      "=================================================================\n",
      "Total params: 280,095\n",
      "Trainable params: 280,095\n",
      "Non-trainable params: 0\n",
      "_________________________________________________________________\n"
     ]
    }
   ],
   "source": [
    "model.summary()"
   ]
  },
  {
   "cell_type": "markdown",
   "id": "0feb83c6",
   "metadata": {},
   "source": [
    "## Model Training "
   ]
  },
  {
   "cell_type": "code",
   "execution_count": 20,
   "id": "7a864751",
   "metadata": {
    "scrolled": false
   },
   "outputs": [
    {
     "name": "stdout",
     "output_type": "stream",
     "text": [
      "Epoch 1/10\n",
      "160/160 [==============================] - 33s 201ms/step - loss: 0.9028 - accuracy: 0.7984 - val_loss: 0.0041 - val_accuracy: 1.0000\n",
      "Epoch 2/10\n",
      "160/160 [==============================] - 38s 239ms/step - loss: 0.0022 - accuracy: 1.0000 - val_loss: 0.0011 - val_accuracy: 1.0000\n",
      "Epoch 3/10\n",
      "160/160 [==============================] - 85s 529ms/step - loss: 8.0955e-04 - accuracy: 1.0000 - val_loss: 5.4998e-04 - val_accuracy: 1.0000\n",
      "Epoch 4/10\n",
      "160/160 [==============================] - 90s 561ms/step - loss: 4.3988e-04 - accuracy: 1.0000 - val_loss: 3.2959e-04 - val_accuracy: 1.0000\n",
      "Epoch 5/10\n",
      "160/160 [==============================] - 87s 546ms/step - loss: 2.7813e-04 - accuracy: 1.0000 - val_loss: 2.2083e-04 - val_accuracy: 1.0000\n",
      "Epoch 6/10\n",
      "160/160 [==============================] - 88s 548ms/step - loss: 1.9224e-04 - accuracy: 1.0000 - val_loss: 1.5819e-04 - val_accuracy: 1.0000\n",
      "Epoch 7/10\n",
      "160/160 [==============================] - 89s 553ms/step - loss: 1.4093e-04 - accuracy: 1.0000 - val_loss: 1.1967e-04 - val_accuracy: 1.0000\n",
      "Epoch 8/10\n",
      "160/160 [==============================] - 88s 553ms/step - loss: 1.0796e-04 - accuracy: 1.0000 - val_loss: 9.1649e-05 - val_accuracy: 1.0000\n",
      "Epoch 9/10\n",
      "160/160 [==============================] - 86s 536ms/step - loss: 8.4163e-05 - accuracy: 1.0000 - val_loss: 7.3062e-05 - val_accuracy: 1.0000\n",
      "Epoch 10/10\n",
      "160/160 [==============================] - 89s 559ms/step - loss: 6.7643e-05 - accuracy: 1.0000 - val_loss: 5.9309e-05 - val_accuracy: 1.0000\n"
     ]
    },
    {
     "data": {
      "text/plain": [
       "<keras.callbacks.History at 0x1cb8dfd4460>"
      ]
     },
     "execution_count": 20,
     "metadata": {},
     "output_type": "execute_result"
    }
   ],
   "source": [
    "model.fit(x_train,y_train,epochs=10,validation_split=0.1)"
   ]
  },
  {
   "cell_type": "code",
   "execution_count": 23,
   "id": "6d448c70",
   "metadata": {},
   "outputs": [
    {
     "name": "stdout",
     "output_type": "stream",
     "text": [
      "177/177 [==============================] - 29s 163ms/step - loss: 6.0464e-05 - accuracy: 1.0000\n"
     ]
    },
    {
     "data": {
      "text/plain": [
       "[6.046410999260843e-05, 1.0]"
      ]
     },
     "execution_count": 23,
     "metadata": {},
     "output_type": "execute_result"
    }
   ],
   "source": [
    "model.evaluate(x_train,y_train)"
   ]
  },
  {
   "cell_type": "markdown",
   "id": "a73aeabd",
   "metadata": {},
   "source": [
    "## Model prediction"
   ]
  },
  {
   "cell_type": "code",
   "execution_count": 24,
   "id": "34ef0968",
   "metadata": {},
   "outputs": [
    {
     "name": "stdout",
     "output_type": "stream",
     "text": [
      "45/45 [==============================] - 8s 161ms/step\n"
     ]
    }
   ],
   "source": [
    "pred=model.predict(x_test)"
   ]
  },
  {
   "cell_type": "code",
   "execution_count": 25,
   "id": "dcf5247e",
   "metadata": {},
   "outputs": [],
   "source": [
    "y_values=[np.argmax(i) for i in y_test]"
   ]
  },
  {
   "cell_type": "code",
   "execution_count": 43,
   "id": "505c2ccf",
   "metadata": {},
   "outputs": [
    {
     "data": {
      "text/plain": [
       "[14, 30, 17, 6, 6, 27, 33, 29, 33, 27, 22, 17, 25, 25, 8, 10, 4, 33, 32, 0]"
      ]
     },
     "execution_count": 43,
     "metadata": {},
     "output_type": "execute_result"
    }
   ],
   "source": [
    "y_values[:20]"
   ]
  },
  {
   "cell_type": "code",
   "execution_count": 27,
   "id": "75efc40f",
   "metadata": {},
   "outputs": [],
   "source": [
    "pred_val=[np.argmax(i) for i in pred]"
   ]
  },
  {
   "cell_type": "code",
   "execution_count": 28,
   "id": "ea1e71b7",
   "metadata": {},
   "outputs": [
    {
     "data": {
      "text/plain": [
       "[14, 30, 17, 6, 6, 27, 33, 29, 33, 27, 22, 17, 25, 25, 8, 10, 4, 33, 32, 0]"
      ]
     },
     "execution_count": 28,
     "metadata": {},
     "output_type": "execute_result"
    }
   ],
   "source": [
    "pred_val[:20]"
   ]
  },
  {
   "cell_type": "markdown",
   "id": "95d37a5d",
   "metadata": {},
   "source": [
    "## Model evaluation using different metrics"
   ]
  },
  {
   "cell_type": "markdown",
   "id": "df740a4b",
   "metadata": {},
   "source": [
    "### Accuracy score"
   ]
  },
  {
   "cell_type": "code",
   "execution_count": 44,
   "id": "f5b2d334",
   "metadata": {},
   "outputs": [
    {
     "data": {
      "text/plain": [
       "1.0"
      ]
     },
     "execution_count": 44,
     "metadata": {},
     "output_type": "execute_result"
    }
   ],
   "source": [
    "accuracy_score(y_values,pred_val)"
   ]
  },
  {
   "cell_type": "markdown",
   "id": "00544d41",
   "metadata": {},
   "source": [
    "### Confusion matrix"
   ]
  },
  {
   "cell_type": "code",
   "execution_count": 34,
   "id": "2c57b52f",
   "metadata": {},
   "outputs": [
    {
     "data": {
      "text/plain": [
       "Text(70.72222222222221, 0.5, 'Actual Values')"
      ]
     },
     "execution_count": 34,
     "metadata": {},
     "output_type": "execute_result"
    },
    {
     "data": {
      "image/png": "[encoded data removed]",
      "text/plain": [
       "<Figure size 800x800 with 2 Axes>"
      ]
     },
     "metadata": {},
     "output_type": "display_data"
    }
   ],
   "source": [
    "plt.figure(figsize=(8,8))\n",
    "sns.heatmap(confusion_matrix(y_values,pred_val),annot=True,fmt='d')\n",
    "plt.xlabel('Predicted Values')\n",
    "plt.ylabel('Actual Values')"
   ]
  },
  {
   "cell_type": "markdown",
   "id": "91703a34",
   "metadata": {},
   "source": [
    "### Classification report"
   ]
  },
  {
   "cell_type": "code",
   "execution_count": 35,
   "id": "f297a066",
   "metadata": {},
   "outputs": [
    {
     "name": "stdout",
     "output_type": "stream",
     "text": [
      "              precision    recall  f1-score   support\n",
      "\n",
      "           0       1.00      1.00      1.00        45\n",
      "           1       1.00      1.00      1.00        44\n",
      "           2       1.00      1.00      1.00        43\n",
      "           3       1.00      1.00      1.00        42\n",
      "           4       1.00      1.00      1.00        32\n",
      "           5       1.00      1.00      1.00        44\n",
      "           6       1.00      1.00      1.00        30\n",
      "           7       1.00      1.00      1.00        40\n",
      "           8       1.00      1.00      1.00        35\n",
      "           9       1.00      1.00      1.00        41\n",
      "          10       1.00      1.00      1.00        34\n",
      "          11       1.00      1.00      1.00        42\n",
      "          12       1.00      1.00      1.00        44\n",
      "          13       1.00      1.00      1.00        38\n",
      "          14       1.00      1.00      1.00        42\n",
      "          15       1.00      1.00      1.00        34\n",
      "          16       1.00      1.00      1.00        40\n",
      "          17       1.00      1.00      1.00        43\n",
      "          18       1.00      1.00      1.00        50\n",
      "          19       1.00      1.00      1.00        36\n",
      "          20       1.00      1.00      1.00        32\n",
      "          21       1.00      1.00      1.00        46\n",
      "          22       1.00      1.00      1.00        46\n",
      "          23       1.00      1.00      1.00        35\n",
      "          24       1.00      1.00      1.00        53\n",
      "          25       1.00      1.00      1.00        39\n",
      "          26       1.00      1.00      1.00        38\n",
      "          27       1.00      1.00      1.00        37\n",
      "          28       1.00      1.00      1.00        42\n",
      "          29       1.00      1.00      1.00        47\n",
      "          30       1.00      1.00      1.00        36\n",
      "          31       1.00      1.00      1.00        39\n",
      "          32       1.00      1.00      1.00        43\n",
      "          33       1.00      1.00      1.00        43\n",
      "          34       1.00      1.00      1.00        39\n",
      "\n",
      "    accuracy                           1.00      1414\n",
      "   macro avg       1.00      1.00      1.00      1414\n",
      "weighted avg       1.00      1.00      1.00      1414\n",
      "\n"
     ]
    }
   ],
   "source": [
    "print(classification_report(y_values,pred_val))"
   ]
  },
  {
   "cell_type": "markdown",
   "id": "570944fd",
   "metadata": {},
   "source": [
    "***"
   ]
  },
  {
   "cell_type": "code",
   "execution_count": 29,
   "id": "1dc44682",
   "metadata": {},
   "outputs": [],
   "source": [
    "model.save('pretrained_model.h5')"
   ]
  },
  {
   "cell_type": "code",
   "execution_count": 41,
   "id": "3332fa89",
   "metadata": {},
   "outputs": [],
   "source": [
    "def predict_image(filepath):\n",
    "    # Load the image from the file path\n",
    "    image = cv2.imread(filepath)\n",
    "    \n",
    "    # Pre-process the image for prediction\n",
    "    image = cv2.resize(image, (64,64))\n",
    "   \n",
    "    \n",
    "    # Load the pre-trained model\n",
    "    model = load_model('path_to_model.h5')\n",
    "    \n",
    "    # Predict the contents of the image\n",
    "    predictions = model.predict(image)\n",
    "    \n",
    "    # Decode the predictions into class labels\n",
    "    classes = decode_predictions(predictions)\n",
    "    \n",
    "    # Return the top-k predictions\n",
    "    return classes[0][:k]\n"
   ]
  },
  {
   "cell_type": "code",
   "execution_count": 42,
   "id": "0d20ad6a",
   "metadata": {},
   "outputs": [
    {
     "ename": "error",
     "evalue": "OpenCV(4.7.0) D:\\a\\opencv-python\\opencv-python\\opencv\\modules\\imgproc\\src\\resize.cpp:4062: error: (-215:Assertion failed) !ssize.empty() in function 'cv::resize'\n",
     "output_type": "error",
     "traceback": [
      "\u001b[1;31m---------------------------------------------------------------------------\u001b[0m",
      "\u001b[1;31merror\u001b[0m                                     Traceback (most recent call last)",
      "\u001b[1;32m~\\AppData\\Local\\Temp\\ipykernel_16380\\154381347.py\u001b[0m in \u001b[0;36m<module>\u001b[1;34m\u001b[0m\n\u001b[1;32m----> 1\u001b[1;33m \u001b[0mpredict_image\u001b[0m\u001b[1;33m(\u001b[0m\u001b[1;34m'Sign languages/predict/*.jpg'\u001b[0m\u001b[1;33m)\u001b[0m\u001b[1;33m\u001b[0m\u001b[1;33m\u001b[0m\u001b[0m\n\u001b[0m",
      "\u001b[1;32m~\\AppData\\Local\\Temp\\ipykernel_16380\\3719771269.py\u001b[0m in \u001b[0;36mpredict_image\u001b[1;34m(filepath)\u001b[0m\n\u001b[0;32m      4\u001b[0m \u001b[1;33m\u001b[0m\u001b[0m\n\u001b[0;32m      5\u001b[0m     \u001b[1;31m# Pre-process the image for prediction\u001b[0m\u001b[1;33m\u001b[0m\u001b[1;33m\u001b[0m\u001b[0m\n\u001b[1;32m----> 6\u001b[1;33m     \u001b[0mimage\u001b[0m \u001b[1;33m=\u001b[0m \u001b[0mcv2\u001b[0m\u001b[1;33m.\u001b[0m\u001b[0mresize\u001b[0m\u001b[1;33m(\u001b[0m\u001b[0mimage\u001b[0m\u001b[1;33m,\u001b[0m \u001b[1;33m(\u001b[0m\u001b[1;36m64\u001b[0m\u001b[1;33m,\u001b[0m\u001b[1;36m64\u001b[0m\u001b[1;33m)\u001b[0m\u001b[1;33m)\u001b[0m\u001b[1;33m\u001b[0m\u001b[1;33m\u001b[0m\u001b[0m\n\u001b[0m\u001b[0;32m      7\u001b[0m \u001b[1;33m\u001b[0m\u001b[0m\n\u001b[0;32m      8\u001b[0m \u001b[1;33m\u001b[0m\u001b[0m\n",
      "\u001b[1;31merror\u001b[0m: OpenCV(4.7.0) D:\\a\\opencv-python\\opencv-python\\opencv\\modules\\imgproc\\src\\resize.cpp:4062: error: (-215:Assertion failed) !ssize.empty() in function 'cv::resize'\n"
     ]
    }
   ],
   "source": [
    "predict_image('Sign languages/predict/*.jpg')"
   ]
  },
  {
   "cell_type": "code",
   "execution_count": 40,
   "id": "7d7a0ee8",
   "metadata": {},
   "outputs": [],
   "source": [
    "import tkinter as tk\n",
    "from tkinter import filedialog\n",
    "import os\n",
    "\n",
    "# Create a tkinter window\n",
    "root = tk.Tk()\n",
    "root.withdraw()\n",
    "\n",
    "# Open a file dialog to select a folder\n",
    "folder_path = filedialog.askdirectory()\n",
    "\n",
    "# Check if a folder was selected\n",
    "if folder_path:\n",
    "    # Open the selected folder\n",
    "    os.startfile(folder_path)\n"
   ]
  },
  {
   "cell_type": "code",
   "execution_count": null,
   "id": "572f02e0",
   "metadata": {},
   "outputs": [],
   "source": [
    "import tkinter as tk\n",
    "from tkinter import filedialog\n",
    "import os\n",
    "\n",
    "# Create a tkinter window\n",
    "root = tk.Tk()\n",
    "root.withdraw()\n",
    "\n",
    "# Open a file dialog to select a folder\n",
    "folder_path = filedialog.askdirectory()\n",
    "\n",
    "# Check if a folder was selected\n",
    "if folder_path:\n",
    "    # Loop through the images in the folder\n",
    "    for filename in os.listdir(folder_path):\n",
    "        # Check if the file is an image\n",
    "        if filename.endswith(\".jpg\") or filename.endswith(\".jpeg\") or filename.endswith(\".png\"):\n",
    "            # Load the image\n",
    "            img = image.load_img(os.path.join(folder_path, filename), target_size=(224, 224))\n",
    "\n",
    "            # Convert the image to a numpy array\n",
    "            x = image.img_to_array(img)\n",
    "\n",
    "            # Preprocess the image for the VGG16 model\n",
    "            \n",
    "            x = preprocess_input(x)\n",
    "\n",
    "            # Make predictions using the VGG16 model\n",
    "            predictions = model.predict(x)\n",
    "\n",
    "            # Convert the predictions to class indices\n",
    "            class_indices = np.argmax(predictions, axis=1)\n",
    "\n",
    "            # Convert the class indices to class labels\n",
    "            predicted_label = class_labels[class_indices[0]]\n",
    "\n",
    "            # Print the image name and predicted label\n",
    "            print(\"Image:\", filename, \"Predicted Label:\", predicted_label)\n"
   ]
  },
  {
   "cell_type": "code",
   "execution_count": null,
   "id": "b8446789",
   "metadata": {},
   "outputs": [],
   "source": []
  }
 ],
 "metadata": {
  "kernelspec": {
   "display_name": "Python 3 (ipykernel)",
   "language": "python",
   "name": "python3"
  },
  "language_info": {
   "codemirror_mode": {
    "name": "ipython",
    "version": 3
   },
   "file_extension": ".py",
   "mimetype": "text/x-python",
   "name": "python",
   "nbconvert_exporter": "python",
   "pygments_lexer": "ipython3",
   "version": "3.9.13"
  }
 },
 "nbformat": 4,
 "nbformat_minor": 5
}
